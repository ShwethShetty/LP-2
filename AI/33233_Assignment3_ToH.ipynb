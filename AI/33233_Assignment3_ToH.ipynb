{
 "cells": [
  {
   "cell_type": "code",
   "execution_count": 5,
   "metadata": {},
   "outputs": [],
   "source": [
    "def Hanoi(n,A,B,C):\n",
    "    count = 1\n",
    "    if(n==1):\n",
    "        print(\"Move \", n, \" from \", A, \" to \",C)\n",
    "        return count\n",
    "    else:\n",
    "        count += Hanoi(n-1,A,C,B)\n",
    "        print(\"Move \", n, \" from \", A, \" to \",C)\n",
    "        count += Hanoi(n-1,B,A,C)\n",
    "        return count\n",
    "        "
   ]
  },
  {
   "cell_type": "code",
   "execution_count": 6,
   "metadata": {},
   "outputs": [
    {
     "name": "stdout",
     "output_type": "stream",
     "text": [
      "Move  1  from  A  to  C\n",
      "Move  2  from  A  to  B\n",
      "Move  1  from  C  to  B\n",
      "Move  3  from  A  to  C\n",
      "Move  1  from  B  to  A\n",
      "Move  2  from  B  to  C\n",
      "Move  1  from  A  to  C\n"
     ]
    },
    {
     "data": {
      "text/plain": [
       "7"
      ]
     },
     "execution_count": 6,
     "metadata": {},
     "output_type": "execute_result"
    }
   ],
   "source": [
    "Hanoi(3, \"A\", \"B\", \"C\")"
   ]
  },
  {
   "cell_type": "code",
   "execution_count": 7,
   "metadata": {},
   "outputs": [
    {
     "name": "stdout",
     "output_type": "stream",
     "text": [
      "Move  1  from  Tower1  to  Tower2\n",
      "Move  2  from  Tower1  to  Tower3\n",
      "Move  1  from  Tower2  to  Tower3\n",
      "Move  3  from  Tower1  to  Tower2\n",
      "Move  1  from  Tower3  to  Tower1\n",
      "Move  2  from  Tower3  to  Tower2\n",
      "Move  1  from  Tower1  to  Tower2\n",
      "Move  4  from  Tower1  to  Tower3\n",
      "Move  1  from  Tower2  to  Tower3\n",
      "Move  2  from  Tower2  to  Tower1\n",
      "Move  1  from  Tower3  to  Tower1\n",
      "Move  3  from  Tower2  to  Tower3\n",
      "Move  1  from  Tower1  to  Tower2\n",
      "Move  2  from  Tower1  to  Tower3\n",
      "Move  1  from  Tower2  to  Tower3\n"
     ]
    },
    {
     "data": {
      "text/plain": [
       "15"
      ]
     },
     "execution_count": 7,
     "metadata": {},
     "output_type": "execute_result"
    }
   ],
   "source": [
    "Hanoi(4, \"Tower1\", \"Tower2\", \"Tower3\")"
   ]
  },
  {
   "cell_type": "code",
   "execution_count": 9,
   "metadata": {},
   "outputs": [
    {
     "name": "stdout",
     "output_type": "stream",
     "text": [
      "Move  1  from  A  to  B\n",
      "Move  2  from  A  to  C\n",
      "Move  1  from  B  to  C\n",
      "Move  3  from  A  to  B\n",
      "Move  1  from  C  to  A\n",
      "Move  2  from  C  to  B\n",
      "Move  1  from  A  to  B\n",
      "Move  4  from  A  to  C\n",
      "Move  1  from  B  to  C\n",
      "Move  2  from  B  to  A\n",
      "Move  1  from  C  to  A\n",
      "Move  3  from  B  to  C\n",
      "Move  1  from  A  to  B\n",
      "Move  2  from  A  to  C\n",
      "Move  1  from  B  to  C\n",
      "Move  5  from  A  to  B\n",
      "Move  1  from  C  to  A\n",
      "Move  2  from  C  to  B\n",
      "Move  1  from  A  to  B\n",
      "Move  3  from  C  to  A\n",
      "Move  1  from  B  to  C\n",
      "Move  2  from  B  to  A\n",
      "Move  1  from  C  to  A\n",
      "Move  4  from  C  to  B\n",
      "Move  1  from  A  to  B\n",
      "Move  2  from  A  to  C\n",
      "Move  1  from  B  to  C\n",
      "Move  3  from  A  to  B\n",
      "Move  1  from  C  to  A\n",
      "Move  2  from  C  to  B\n",
      "Move  1  from  A  to  B\n",
      "Move  6  from  A  to  C\n",
      "Move  1  from  B  to  C\n",
      "Move  2  from  B  to  A\n",
      "Move  1  from  C  to  A\n",
      "Move  3  from  B  to  C\n",
      "Move  1  from  A  to  B\n",
      "Move  2  from  A  to  C\n",
      "Move  1  from  B  to  C\n",
      "Move  4  from  B  to  A\n",
      "Move  1  from  C  to  A\n",
      "Move  2  from  C  to  B\n",
      "Move  1  from  A  to  B\n",
      "Move  3  from  C  to  A\n",
      "Move  1  from  B  to  C\n",
      "Move  2  from  B  to  A\n",
      "Move  1  from  C  to  A\n",
      "Move  5  from  B  to  C\n",
      "Move  1  from  A  to  B\n",
      "Move  2  from  A  to  C\n",
      "Move  1  from  B  to  C\n",
      "Move  3  from  A  to  B\n",
      "Move  1  from  C  to  A\n",
      "Move  2  from  C  to  B\n",
      "Move  1  from  A  to  B\n",
      "Move  4  from  A  to  C\n",
      "Move  1  from  B  to  C\n",
      "Move  2  from  B  to  A\n",
      "Move  1  from  C  to  A\n",
      "Move  3  from  B  to  C\n",
      "Move  1  from  A  to  B\n",
      "Move  2  from  A  to  C\n",
      "Move  1  from  B  to  C\n"
     ]
    },
    {
     "data": {
      "text/plain": [
       "63"
      ]
     },
     "execution_count": 9,
     "metadata": {},
     "output_type": "execute_result"
    }
   ],
   "source": [
    "n = int(input(\"Enter number of rings : \"))\n",
    "Hanoi(n,'A','B','C')"
   ]
  },
  {
   "cell_type": "code",
   "execution_count": null,
   "metadata": {},
   "outputs": [],
   "source": []
  }
 ],
 "metadata": {
  "interpreter": {
   "hash": "916dbcbb3f70747c44a77c7bcd40155683ae19c65e1c03b4aa3499c5328201f1"
  },
  "kernelspec": {
   "display_name": "Python 3.8.10 64-bit",
   "language": "python",
   "name": "python3"
  },
  "language_info": {
   "codemirror_mode": {
    "name": "ipython",
    "version": 3
   },
   "file_extension": ".py",
   "mimetype": "text/x-python",
   "name": "python",
   "nbconvert_exporter": "python",
   "pygments_lexer": "ipython3",
   "version": "3.8.10"
  },
  "orig_nbformat": 4
 },
 "nbformat": 4,
 "nbformat_minor": 2
}
