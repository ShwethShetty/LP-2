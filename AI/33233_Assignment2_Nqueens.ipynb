{
 "cells": [
  {
   "cell_type": "code",
   "execution_count": 1,
   "source": [
    "import random\r\n",
    "from array import array"
   ],
   "outputs": [],
   "metadata": {}
  },
  {
   "cell_type": "code",
   "execution_count": 2,
   "source": [
    "board = [[0,0,0,0,0,0,0,0],[0,0,0,0,0,0,0,0],[0,0,0,0,0,0,0,0],[0,0,0,0,0,0,0,0],[0,0,0,0,0,0,0,0],[0,0,0,0,0,0,0,0],[0,0,0,0,0,0,0,0],[0,0,0,0,0,0,0,0]]\r\n",
    "neighbour = [[0,0,0,0,0,0,0,0],[0,0,0,0,0,0,0,0],[0,0,0,0,0,0,0,0],[0,0,0,0,0,0,0,0],[0,0,0,0,0,0,0,0],[0,0,0,0,0,0,0,0],[0,0,0,0,0,0,0,0],[0,0,0,0,0,0,0,0]]\r\n",
    "queens = [0,0,0,0,0,0,0,0]"
   ],
   "outputs": [],
   "metadata": {}
  },
  {
   "cell_type": "code",
   "execution_count": 3,
   "source": [
    "# def collision_count(column,row): #row, col\r\n",
    "def collision_count(row, column):\r\n",
    "    coll = 0\r\n",
    "    cr = row\r\n",
    "    cc = column\r\n",
    "    for j in range(8): # lef - rig\r\n",
    "        if j == column: # queen under consideration\r\n",
    "            continue\r\n",
    "        if board[row][j] == 1 :\r\n",
    "            coll += 1\r\n",
    "    \r\n",
    "    for j in range(8): # top - bot\r\n",
    "        if j == row: # queen under consideration\r\n",
    "            continue\r\n",
    "        if board[j][column] == 1 :\r\n",
    "            coll += 1\r\n",
    "    \r\n",
    "    while(cr < 7 and  cc < 7):\r\n",
    "        cc += 1\r\n",
    "        cr +=1\r\n",
    "        if board[cr][cc] == 1:\r\n",
    "            coll += 1\r\n",
    "    cr, cc = row, column\r\n",
    "    while(cc > 0 and cr > 0):\r\n",
    "        cr -= 1\r\n",
    "        cc -=1\r\n",
    "        if board[cr][cc] == 1:\r\n",
    "            coll += 1\r\n",
    "    cr, cc = row, column\r\n",
    "    while(cc > 0 and cr < 7):\r\n",
    "        cr += 1\r\n",
    "        cc -=1\r\n",
    "        if board[cr][cc] == 1:\r\n",
    "            coll += 1\r\n",
    "    cr, cc = row, column\r\n",
    "    while(cc < 7 and cr > 0):\r\n",
    "        cr -= 1\r\n",
    "        cc +=1\r\n",
    "        if board[cr][cc] == 1:\r\n",
    "            coll += 1\r\n",
    "            \r\n",
    "                     \r\n",
    "    return coll     "
   ],
   "outputs": [],
   "metadata": {}
  },
  {
   "cell_type": "code",
   "execution_count": 4,
   "source": [
    "def totalcoll():\r\n",
    "    totcoll = 0\r\n",
    "    for i in range(8):\r\n",
    "        totcoll += collision_count(i,queens[i]) # for each row\r\n",
    "    return totcoll"
   ],
   "outputs": [],
   "metadata": {}
  },
  {
   "cell_type": "code",
   "execution_count": 5,
   "source": [
    "while True:\r\n",
    "#     print(\"f\")\r\n",
    "    board = [[0,0,0,0,0,0,0,0],[0,0,0,0,0,0,0,0],[0,0,0,0,0,0,0,0],[0,0,0,0,0,0,0,0],[0,0,0,0,0,0,0,0],[0,0,0,0,0,0,0,0],[0,0,0,0,0,0,0,0],[0,0,0,0,0,0,0,0]]\r\n",
    "    for i in range(8):\r\n",
    "        queens[i] = random.randrange(0,8)\r\n",
    "        board[i][queens[i]] = 1\r\n",
    "    \r\n",
    "\r\n",
    "\r\n",
    "    totalcollision =  totalcoll()\r\n",
    "#     print(\"colli \", totalcollision)\r\n",
    "    while True:\r\n",
    "        for i in range(8):\r\n",
    "            oldqueen = queens[i]\r\n",
    "            for j in range(8):       \r\n",
    "                queens[i] = j\r\n",
    "                board[i][oldqueen] = 0\r\n",
    "                board[i][queens[i]] = 1\r\n",
    "                neighbour[i][j] = totalcoll()#generate n\r\n",
    "                board[i][queens[i]] = 0\r\n",
    "                board[i][oldqueen] = 1\r\n",
    "            queens[i] = oldqueen\r\n",
    "        min = neighbour[0][0]\r\n",
    "        minqueencol = 0\r\n",
    "        minqueenrow = 0\r\n",
    "        for i in range(8):\r\n",
    "            for j in range(8):\r\n",
    "                if(neighbour[i][j]<min):\r\n",
    "                    min = neighbour[i][j] # should store/generate this state(?)\r\n",
    "                    minqueenrow = i\r\n",
    "                    minqueencol = j\r\n",
    "\r\n",
    "        if min<totalcollision:\r\n",
    "            totalcollision = min\r\n",
    "            board[minqueenrow][queens[minqueenrow]] = 0 #\r\n",
    "            queens[minqueenrow] = minqueencol\r\n",
    "            board[minqueenrow][queens[minqueenrow]] = 1\r\n",
    "        else:\r\n",
    "            break\r\n",
    "    print(\"colli \", totalcollision)   \r\n",
    "    if totalcollision == 0:\r\n",
    "        break\r\n",
    "#     print(\"colli \", totalcollision)\r\n",
    "for i in range(8):\r\n",
    "    for j in range(8):\r\n",
    "        print(board[i][j], end=\" \")\r\n",
    "    print()\r\n"
   ],
   "outputs": [
    {
     "output_type": "stream",
     "name": "stdout",
     "text": [
      "colli  6\n",
      "colli  4\n",
      "colli  2\n",
      "colli  2\n",
      "colli  6\n",
      "colli  4\n",
      "colli  2\n",
      "colli  2\n",
      "colli  0\n",
      "0 0 0 0 1 0 0 0 \n",
      "0 0 1 0 0 0 0 0 \n",
      "1 0 0 0 0 0 0 0 \n",
      "0 0 0 0 0 0 1 0 \n",
      "0 1 0 0 0 0 0 0 \n",
      "0 0 0 0 0 0 0 1 \n",
      "0 0 0 0 0 1 0 0 \n",
      "0 0 0 1 0 0 0 0 \n"
     ]
    }
   ],
   "metadata": {}
  },
  {
   "cell_type": "markdown",
   "source": [
    "### randrange(0, 8) -> initialise queens, queens[i] for row i queen resides on which col\n",
    "### initial collisions\n",
    "### while -> neighbors total collision"
   ],
   "metadata": {}
  },
  {
   "cell_type": "code",
   "execution_count": null,
   "source": [],
   "outputs": [],
   "metadata": {}
  }
 ],
 "metadata": {
  "kernelspec": {
   "name": "python3",
   "display_name": "Python 3.8.5 32-bit"
  },
  "language_info": {
   "codemirror_mode": {
    "name": "ipython",
    "version": 3
   },
   "file_extension": ".py",
   "mimetype": "text/x-python",
   "name": "python",
   "nbconvert_exporter": "python",
   "pygments_lexer": "ipython3",
   "version": "3.8.5"
  },
  "interpreter": {
   "hash": "7a542ca580817fc4dd55327026e074e2fa0cd470fc5dee9350c2d8b13822db8d"
  }
 },
 "nbformat": 4,
 "nbformat_minor": 5
}